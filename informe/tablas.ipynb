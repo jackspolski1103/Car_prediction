{
 "cells": [
  {
   "cell_type": "code",
   "execution_count": 1,
   "metadata": {},
   "outputs": [],
   "source": [
    "import pandas as pd\n",
    "import os\n",
    "from os import listdir\n",
    "from os.path import isfile, join\n",
    "import numpy as np"
   ]
  },
  {
   "cell_type": "code",
   "execution_count": null,
   "metadata": {},
   "outputs": [],
   "source": [
    "def armar_tabla(data_params_name):\n",
    "    path = '../results/' + data_params_name\n",
    "    #obtener los nombres de los modelos\n",
    "    modelos = [f for f in listdir(path) if not isfile(join(path, f))]\n",
    "    #dentro de la carpeta de cada modelo se encuentran los archivos results.csv\n",
    "    #levantar los archivos results.csv por modelo\n",
    "    #armar una tabla donde una columna sea el nombre del modelo y las otras columnas sean las metricas\n",
    "    df = pd.DataFrame()\n",
    "    for modelo in modelos:\n",
    "        #levantar el archivo results.csv\n",
    "        results = pd.read_csv(join(path, modelo, 'results.csv'))\n",
    "        #agregar una columna con el nombre del modelo\n",
    "        results['modelo'] = modelo\n",
    "        #agregar las metricas a la tabla\n",
    "        df = pd.concat([df, results], axis = 0)\n",
    "    return df\n",
    "\n",
    "def fromDF_to_latex(df):\n",
    "    #convertir la tabla a formato latex\n",
    "    return df.to_latex()"
   ]
  }
 ],
 "metadata": {
  "kernelspec": {
   "display_name": "TPML",
   "language": "python",
   "name": "python3"
  },
  "language_info": {
   "codemirror_mode": {
    "name": "ipython",
    "version": 3
   },
   "file_extension": ".py",
   "mimetype": "text/x-python",
   "name": "python",
   "nbconvert_exporter": "python",
   "pygments_lexer": "ipython3",
   "version": "3.11.9"
  }
 },
 "nbformat": 4,
 "nbformat_minor": 2
}
