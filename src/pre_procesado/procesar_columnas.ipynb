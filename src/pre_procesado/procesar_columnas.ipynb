{
 "cells": [
  {
   "cell_type": "code",
   "execution_count": 1,
   "metadata": {},
   "outputs": [],
   "source": [
    "%reload_ext autoreload\n",
    "%autoreload 2\n",
    "import numpy as np\n",
    "import pandas as pd"
   ]
  },
  {
   "cell_type": "code",
   "execution_count": 2,
   "metadata": {},
   "outputs": [
    {
     "data": {
      "text/html": [
       "<div>\n",
       "<style scoped>\n",
       "    .dataframe tbody tr th:only-of-type {\n",
       "        vertical-align: middle;\n",
       "    }\n",
       "\n",
       "    .dataframe tbody tr th {\n",
       "        vertical-align: top;\n",
       "    }\n",
       "\n",
       "    .dataframe thead th {\n",
       "        text-align: right;\n",
       "    }\n",
       "</style>\n",
       "<table border=\"1\" class=\"dataframe\">\n",
       "  <thead>\n",
       "    <tr style=\"text-align: right;\">\n",
       "      <th></th>\n",
       "      <th>Marca</th>\n",
       "      <th>Modelo</th>\n",
       "      <th>Año</th>\n",
       "      <th>Versión</th>\n",
       "      <th>Color</th>\n",
       "      <th>Tipo de combustible</th>\n",
       "      <th>Puertas</th>\n",
       "      <th>Transmisión</th>\n",
       "      <th>Motor</th>\n",
       "      <th>Tipo de carrocería</th>\n",
       "      <th>Kilómetros</th>\n",
       "      <th>Título</th>\n",
       "      <th>Precio</th>\n",
       "      <th>Moneda</th>\n",
       "      <th>Tipo de vendedor</th>\n",
       "      <th>Con cámara de retroceso</th>\n",
       "    </tr>\n",
       "  </thead>\n",
       "  <tbody>\n",
       "    <tr>\n",
       "      <th>0</th>\n",
       "      <td>Peugeot</td>\n",
       "      <td>2008</td>\n",
       "      <td>2022.0</td>\n",
       "      <td>1.6 Feline Tip am20</td>\n",
       "      <td>Blanco</td>\n",
       "      <td>Nafta</td>\n",
       "      <td>5.0</td>\n",
       "      <td>Automática</td>\n",
       "      <td>1.6</td>\n",
       "      <td>SUV</td>\n",
       "      <td>23000 km</td>\n",
       "      <td>Peugeot 2008 1.6 Feline Tip am20</td>\n",
       "      <td>22499999.0</td>\n",
       "      <td>$</td>\n",
       "      <td>tienda</td>\n",
       "      <td>NaN</td>\n",
       "    </tr>\n",
       "    <tr>\n",
       "      <th>1</th>\n",
       "      <td>Peugeot</td>\n",
       "      <td>2008</td>\n",
       "      <td>2021.0</td>\n",
       "      <td>1.6 Allure</td>\n",
       "      <td>Marrón</td>\n",
       "      <td>Nafta</td>\n",
       "      <td>5.0</td>\n",
       "      <td>Manual</td>\n",
       "      <td>1.6</td>\n",
       "      <td>SUV</td>\n",
       "      <td>17000 km</td>\n",
       "      <td>Peugeot 2008 1.6 Allure</td>\n",
       "      <td>21999999.0</td>\n",
       "      <td>$</td>\n",
       "      <td>tienda</td>\n",
       "      <td>NaN</td>\n",
       "    </tr>\n",
       "    <tr>\n",
       "      <th>2</th>\n",
       "      <td>Peugeot</td>\n",
       "      <td>2008</td>\n",
       "      <td>2021.0</td>\n",
       "      <td>1.6 Allure</td>\n",
       "      <td>Marrón</td>\n",
       "      <td>Nafta</td>\n",
       "      <td>5.0</td>\n",
       "      <td>Manual</td>\n",
       "      <td>1.6</td>\n",
       "      <td>SUV</td>\n",
       "      <td>17500 km</td>\n",
       "      <td>Peugeot 2008 1.6 Allure</td>\n",
       "      <td>20500000.0</td>\n",
       "      <td>$</td>\n",
       "      <td>tienda</td>\n",
       "      <td>NaN</td>\n",
       "    </tr>\n",
       "    <tr>\n",
       "      <th>3</th>\n",
       "      <td>Peugeot</td>\n",
       "      <td>2008</td>\n",
       "      <td>2018.0</td>\n",
       "      <td>1.6 Feline</td>\n",
       "      <td>Blanco</td>\n",
       "      <td>Nafta</td>\n",
       "      <td>5.0</td>\n",
       "      <td>Manual</td>\n",
       "      <td>1.6</td>\n",
       "      <td>SUV</td>\n",
       "      <td>123600 km</td>\n",
       "      <td>Peugeot 2008 1.6 Feline</td>\n",
       "      <td>15000000.0</td>\n",
       "      <td>$</td>\n",
       "      <td>tienda</td>\n",
       "      <td>NaN</td>\n",
       "    </tr>\n",
       "    <tr>\n",
       "      <th>4</th>\n",
       "      <td>Peugeot</td>\n",
       "      <td>2008</td>\n",
       "      <td>2016.0</td>\n",
       "      <td>1.6 Thp Sport</td>\n",
       "      <td>Gris</td>\n",
       "      <td>Nafta</td>\n",
       "      <td>5.0</td>\n",
       "      <td>Manual</td>\n",
       "      <td>1.6</td>\n",
       "      <td>SUV</td>\n",
       "      <td>43000 km</td>\n",
       "      <td>Peugeot 2008 1.6 Thp Sport</td>\n",
       "      <td>12500000.0</td>\n",
       "      <td>$</td>\n",
       "      <td>tienda</td>\n",
       "      <td>NaN</td>\n",
       "    </tr>\n",
       "  </tbody>\n",
       "</table>\n",
       "</div>"
      ],
      "text/plain": [
       "     Marca Modelo     Año              Versión   Color Tipo de combustible  \\\n",
       "0  Peugeot   2008  2022.0  1.6 Feline Tip am20  Blanco               Nafta   \n",
       "1  Peugeot   2008  2021.0           1.6 Allure  Marrón               Nafta   \n",
       "2  Peugeot   2008  2021.0           1.6 Allure  Marrón               Nafta   \n",
       "3  Peugeot   2008  2018.0           1.6 Feline  Blanco               Nafta   \n",
       "4  Peugeot   2008  2016.0        1.6 Thp Sport    Gris               Nafta   \n",
       "\n",
       "   Puertas Transmisión Motor Tipo de carrocería Kilómetros  \\\n",
       "0      5.0  Automática   1.6                SUV   23000 km   \n",
       "1      5.0      Manual   1.6                SUV   17000 km   \n",
       "2      5.0      Manual   1.6                SUV   17500 km   \n",
       "3      5.0      Manual   1.6                SUV  123600 km   \n",
       "4      5.0      Manual   1.6                SUV   43000 km   \n",
       "\n",
       "                             Título      Precio Moneda Tipo de vendedor  \\\n",
       "0  Peugeot 2008 1.6 Feline Tip am20  22499999.0      $           tienda   \n",
       "1           Peugeot 2008 1.6 Allure  21999999.0      $           tienda   \n",
       "2           Peugeot 2008 1.6 Allure  20500000.0      $           tienda   \n",
       "3           Peugeot 2008 1.6 Feline  15000000.0      $           tienda   \n",
       "4        Peugeot 2008 1.6 Thp Sport  12500000.0      $           tienda   \n",
       "\n",
       "  Con cámara de retroceso  \n",
       "0                     NaN  \n",
       "1                     NaN  \n",
       "2                     NaN  \n",
       "3                     NaN  \n",
       "4                     NaN  "
      ]
     },
     "execution_count": 2,
     "metadata": {},
     "output_type": "execute_result"
    }
   ],
   "source": [
    "data_file = '../../data/data.csv'\n",
    "df = pd.read_csv(data_file) \n",
    "df.head() "
   ]
  },
  {
   "cell_type": "markdown",
   "metadata": {},
   "source": [
    "## Modelos"
   ]
  },
  {
   "cell_type": "code",
   "execution_count": 3,
   "metadata": {},
   "outputs": [
    {
     "name": "stdout",
     "output_type": "stream",
     "text": [
      "Modelo\n",
      "2008       603\n",
      "208          3\n",
      "3008       263\n",
      "4008        26\n",
      "4RUNNER      8\n",
      "          ... \n",
      "X55         44\n",
      "X6          85\n",
      "X70         18\n",
      "XC40        26\n",
      "XC60        37\n",
      "Name: count, Length: 156, dtype: int64\n"
     ]
    }
   ],
   "source": [
    "from procesar_modelos import preprocesar_modelos\n",
    "\n",
    "preprocesar_modelos(df)\n",
    "modelos = df['Modelo'].value_counts() \n",
    "# ordenarlos alfabeticamente\n",
    "modelos = modelos.sort_index()\n",
    "print(modelos)"
   ]
  },
  {
   "cell_type": "markdown",
   "metadata": {},
   "source": [
    "## Colores "
   ]
  },
  {
   "cell_type": "code",
   "execution_count": 4,
   "metadata": {},
   "outputs": [
    {
     "name": "stdout",
     "output_type": "stream",
     "text": [
      "Color\n",
      "OTRO        7262\n",
      "GRIS        4678\n",
      "BLANCO      4051\n",
      "NEGRO       2199\n",
      "PLATEADO    1509\n",
      "AZUL         982\n",
      "ROJO         945\n",
      "MARRON       220\n",
      "DORADO       204\n",
      "VERDE        142\n",
      "CELESTE       63\n",
      "NARANJA       58\n",
      "AMARILLO      26\n",
      "BORDO         19\n",
      "VIOLETA       11\n",
      "BEIGE          8\n",
      "Name: count, dtype: int64\n"
     ]
    }
   ],
   "source": [
    "from procesar_colores import preprocesar_colores \n",
    "\n",
    "preprocesar_colores(df)\n",
    "colores = df['Color'].value_counts()\n",
    "print(colores) "
   ]
  },
  {
   "cell_type": "markdown",
   "metadata": {},
   "source": [
    "## Marcas "
   ]
  },
  {
   "cell_type": "code",
   "execution_count": 5,
   "metadata": {},
   "outputs": [
    {
     "name": "stdout",
     "output_type": "stream",
     "text": [
      "Marca\n",
      "JEEP             3099\n",
      "FORD             2606\n",
      "VOLKSWAGEN       2250\n",
      "RENAULT          2202\n",
      "CHEVROLET        2101\n",
      "TOYOTA           1906\n",
      "HONDA            1019\n",
      "PEUGEOT           906\n",
      "CITROËN           850\n",
      "AUDI              839\n",
      "BMW               637\n",
      "FIAT              615\n",
      "HYUNDAI           574\n",
      "MERCEDES-BENZ     505\n",
      "KIA               448\n",
      "CHERY             341\n",
      "NISSAN            311\n",
      "DODGE             272\n",
      "SUZUKI            138\n",
      "LAND              132\n",
      "BAIC               98\n",
      "PORSCHE            94\n",
      "MITSUBISHI         80\n",
      "SUBARU             72\n",
      "VOLVO              63\n",
      "DS                 33\n",
      "ALFA               26\n",
      "ISUZU              24\n",
      "HAVAL              23\n",
      "LEXUS              23\n",
      "LIFAN              16\n",
      "SSANGYONG          14\n",
      "GEELY              14\n",
      "JETOUR             13\n",
      "DAIHATSU           12\n",
      "MINI                9\n",
      "JAC                 6\n",
      "JAGUAR              4\n",
      "OTRO                2\n",
      "Name: count, dtype: int64\n"
     ]
    }
   ],
   "source": [
    "from procesar_marcas import preprocesar_marcas \n",
    "\n",
    "preprocesar_marcas(df)\n",
    "marcas = df['Marca'].value_counts()\n",
    "print(marcas)"
   ]
  },
  {
   "cell_type": "markdown",
   "metadata": {},
   "source": [
    "## Motor"
   ]
  },
  {
   "cell_type": "code",
   "execution_count": 3,
   "metadata": {},
   "outputs": [
    {
     "name": "stdout",
     "output_type": "stream",
     "text": [
      "Motor\n",
      "1       1103\n",
      "1.2      899\n",
      "1.3     1011\n",
      "1.4     1258\n",
      "1.5     1064\n",
      "1.6     4184\n",
      "1.8     2651\n",
      "1.9        3\n",
      "2       4258\n",
      "2.1        4\n",
      "2.2      208\n",
      "2.3        8\n",
      "2.4     1757\n",
      "2.5      633\n",
      "2.6        4\n",
      "2.7      136\n",
      "2.8      962\n",
      "2.9        6\n",
      "3        945\n",
      "3.1       14\n",
      "3.2       41\n",
      "3.3        9\n",
      "3.5      102\n",
      "3.6      305\n",
      "3.7       36\n",
      "3.8       60\n",
      "4        126\n",
      "4.2       24\n",
      "4.3        7\n",
      "4.4       26\n",
      "4.5       12\n",
      "4.6        1\n",
      "4.7       18\n",
      "4.8       28\n",
      "5          9\n",
      "5.2       22\n",
      "5.5        6\n",
      "5.7        8\n",
      "6          5\n",
      "6.1        7\n",
      "6.4       16\n",
      "8          4\n",
      "OTRO     389\n",
      "V6         6\n",
      "V8         2\n",
      "Name: count, dtype: int64\n"
     ]
    }
   ],
   "source": [
    "motores = df['Motor'].value_counts()\n",
    "# ordenarlos alfabeticamente\n",
    "motores = motores.sort_index()\n",
    "motores.to_csv('motores_ordenados.csv')\n",
    "# # print ALL motores with scrollable output\n",
    "# with pd.option_context('display.max_rows', None, 'display.max_columns', None):  # more options can be specified also\n",
    "#     print(motores)\n",
    "\n",
    "from procesar_motor import preprocesar_motor \n",
    "\n",
    "preprocesar_motor(df)\n",
    "motores = df['Motor'].value_counts()\n",
    "# ordenarlos alfabeticamente\n",
    "motores = motores.sort_index()\n",
    "print(motores)  \n"
   ]
  },
  {
   "cell_type": "markdown",
   "metadata": {},
   "source": [
    "## Transmisión"
   ]
  },
  {
   "cell_type": "code",
   "execution_count": 3,
   "metadata": {},
   "outputs": [
    {
     "name": "stdout",
     "output_type": "stream",
     "text": [
      "Transmisión\n",
      "AUTOMÁTICA    14431\n",
      "MANUAL         7914\n",
      "OTRO             32\n",
      "Name: count, dtype: int64\n"
     ]
    }
   ],
   "source": [
    "from procesar_transmision import preprocesar_transmision\n",
    "\n",
    "preprocesar_transmision(df)\n",
    "trans = df['Transmisión'].value_counts()\n",
    "print(trans)"
   ]
  },
  {
   "cell_type": "markdown",
   "metadata": {},
   "source": [
    "## Tipo de vendedor "
   ]
  },
  {
   "cell_type": "code",
   "execution_count": 3,
   "metadata": {},
   "outputs": [
    {
     "name": "stdout",
     "output_type": "stream",
     "text": [
      "Tipo de vendedor\n",
      "CONCESIONARIA    10698\n",
      "PARTICULAR        7430\n",
      "TIENDA            4244\n",
      "OTRO                 5\n",
      "Name: count, dtype: int64\n"
     ]
    }
   ],
   "source": [
    "from procesar_vendedor import preprocesar_vendedor\n",
    "\n",
    "preprocesar_vendedor(df)\n",
    "vendedores = df['Tipo de vendedor'].value_counts()\n",
    "print(vendedores)"
   ]
  },
  {
   "cell_type": "markdown",
   "metadata": {},
   "source": [
    "## Tipo de combustible"
   ]
  },
  {
   "cell_type": "code",
   "execution_count": 3,
   "metadata": {},
   "outputs": [
    {
     "name": "stdout",
     "output_type": "stream",
     "text": [
      "Tipo de combustible\n",
      "NAFTA             19383\n",
      "DIÉSEL             2443\n",
      "HÍBRIDO/NAFTA       250\n",
      "NAFTA/GNC           193\n",
      "ELÉCTRICO            48\n",
      "HÍBRIDO              42\n",
      "GNC                  17\n",
      "HÍBRIDO/DIESEL        1\n",
      "Name: count, dtype: int64\n"
     ]
    }
   ],
   "source": [
    "from procesar_combustible import preprocesar_combustible\n",
    "\n",
    "preprocesar_combustible(df)\n",
    "combustibles = df['Tipo de combustible'].value_counts()\n",
    "print(combustibles)"
   ]
  },
  {
   "cell_type": "code",
   "execution_count": 6,
   "metadata": {},
   "outputs": [
    {
     "name": "stdout",
     "output_type": "stream",
     "text": [
      "1.4\n",
      "3.0\n",
      "1.0\n",
      "1.6\n",
      "1.0\n",
      "0.0\n",
      "2.0\n"
     ]
    }
   ],
   "source": [
    "# funcion que dado un texto encuentre el menor numero decimal con 1 decimal\n",
    "# ejemplos:\n",
    "# \"1.0\" -> 1.0\n",
    "# \"1.2T\" -> 1.2\n",
    "# \"1.2\" -> 1.2\n",
    "# \"1.2 1.3\" -> 1.2\n",
    "# '1' -> 1.0\n",
    "\n",
    "def encontrar_numero_decimal(texto):\n",
    "\n",
    "    import re\n",
    "    #buscar formato con un decimal y un punto\n",
    "    patron = r'\\d+\\.\\d'\n",
    "    matches = re.findall(patron, texto)\n",
    "    if len(matches) > 0:\n",
    "        #devolver el menor\n",
    "        result = min([float(i) for i in matches])\n",
    "        if result<10:\n",
    "            return result\n",
    "         \n",
    "    else:\n",
    "        #buscar numero entero\n",
    "        patron = r'\\d+'\n",
    "        matches = re.findall(patron, texto)\n",
    "        if len(matches) > 0:\n",
    "            #devolver el menor\n",
    "            result = min([float(i) for i in matches])\n",
    "            if result<10:\n",
    "                return result\n",
    "\n",
    "        else:\n",
    "            return 0.0\n",
    "    return 0.0\n",
    "        \n",
    "# test\n",
    "\n",
    "prueba = [ \n",
    "    \"250TSI 1.4 150 CV\",\n",
    "    \"3.0 TURBO INTERCOOLER\",\n",
    "    \"200TSI 1.0 TIP\",\n",
    "    \"1.6 Turbo\", \n",
    "    \"1.0TSI\", \n",
    "    \"15\",\n",
    "    \"2.0T 198 MILD HYBRID\" \n",
    "]\n",
    "\n",
    "for p in prueba:\n",
    "    print(encontrar_numero_decimal(p))\n"
   ]
  },
  {
   "cell_type": "code",
   "execution_count": 3,
   "metadata": {},
   "outputs": [],
   "source": [
    "import procesar_motor\n",
    "\n",
    "procesar_motor.preprocesar_motor(df)\n",
    "motores = df['Cilindrada'].value_counts()"
   ]
  },
  {
   "cell_type": "code",
   "execution_count": 4,
   "metadata": {},
   "outputs": [
    {
     "name": "stdout",
     "output_type": "stream",
     "text": [
      "Cilindrada\n",
      "2.0    4252\n",
      "1.6    4182\n",
      "1.8    2650\n",
      "2.4    1756\n",
      "1.4    1257\n",
      "1.0    1067\n",
      "1.5    1064\n",
      "1.3    1016\n",
      "2.8     963\n",
      "3.0     944\n",
      "1.2     898\n",
      "2.5     630\n",
      "0.0     446\n",
      "3.6     305\n",
      "2.2     204\n",
      "2.7     136\n",
      "4.0     126\n",
      "3.5     102\n",
      "3.8      60\n",
      "3.2      41\n",
      "3.7      36\n",
      "4.8      28\n",
      "4.4      27\n",
      "4.2      24\n",
      "5.2      22\n",
      "4.7      18\n",
      "6.4      16\n",
      "3.1      14\n",
      "4.5      12\n",
      "6.0      10\n",
      "3.3       9\n",
      "5.0       8\n",
      "5.7       8\n",
      "2.3       8\n",
      "4.3       7\n",
      "6.1       7\n",
      "5.5       6\n",
      "2.9       6\n",
      "8.0       4\n",
      "2.6       4\n",
      "1.9       2\n",
      "2.1       1\n",
      "4.6       1\n",
      "Name: count, dtype: int64\n"
     ]
    }
   ],
   "source": [
    "print(motores)"
   ]
  },
  {
   "cell_type": "code",
   "execution_count": 7,
   "metadata": {},
   "outputs": [
    {
     "name": "stdout",
     "output_type": "stream",
     "text": [
      "Año\n",
      "2024.0    3341\n",
      "2023.0    2631\n",
      "2018.0    2043\n",
      "2017.0    1928\n",
      "2019.0    1465\n",
      "2013.0    1304\n",
      "2016.0    1264\n",
      "2021.0    1156\n",
      "2022.0    1152\n",
      "2020.0    1078\n",
      "2012.0     859\n",
      "2011.0     696\n",
      "2014.0     673\n",
      "2015.0     648\n",
      "2010.0     442\n",
      "2008.0     369\n",
      "2009.0     313\n",
      "2007.0     219\n",
      "2006.0     159\n",
      "2005.0      88\n",
      "1999.0      82\n",
      "1998.0      81\n",
      "2004.0      61\n",
      "2000.0      59\n",
      "2001.0      52\n",
      "1997.0      51\n",
      "1994.0      29\n",
      "2003.0      24\n",
      "1996.0      24\n",
      "1993.0      23\n",
      "2002.0      23\n",
      "1995.0      19\n",
      "1992.0      11\n",
      "1987.0       6\n",
      "1991.0       4\n",
      "Name: count, dtype: int64\n"
     ]
    },
    {
     "data": {
      "text/plain": [
       "(array([   6.,    0.,   15.,   52.,   43.,  132.,   82.,  111.,   47.,\n",
       "         149.,  378.,  682., 1138.,  859., 1977., 1912., 3971., 2543.,\n",
       "        2308., 5972.]),\n",
       " array([1987.  , 1988.85, 1990.7 , 1992.55, 1994.4 , 1996.25, 1998.1 ,\n",
       "        1999.95, 2001.8 , 2003.65, 2005.5 , 2007.35, 2009.2 , 2011.05,\n",
       "        2012.9 , 2014.75, 2016.6 , 2018.45, 2020.3 , 2022.15, 2024.  ]),\n",
       " <BarContainer object of 20 artists>)"
      ]
     },
     "execution_count": 7,
     "metadata": {},
     "output_type": "execute_result"
    },
    {
     "data": {
      "image/png": "[encoded data removed]",
      "text/plain": [
       "<Figure size 640x480 with 1 Axes>"
      ]
     },
     "metadata": {},
     "output_type": "display_data"
    }
   ],
   "source": [
    "import procesar_año\n",
    "import matplotlib.pyplot as plt\n",
    "procesar_año.preprocesar_año(df)\n",
    "años = df['Año'].value_counts()\n",
    "print(años)\n",
    "plt.hist(df['Año'], bins=20)"
   ]
  },
  {
   "cell_type": "code",
   "execution_count": 10,
   "metadata": {},
   "outputs": [
    {
     "name": "stdout",
     "output_type": "stream",
     "text": [
      "True\n",
      "True\n",
      "True\n",
      "False\n",
      "False\n",
      "True\n"
     ]
    }
   ],
   "source": [
    "# funcion que busca una palabra en un texto y devuelve booleano\n",
    "# no tiene que estar entre espacios\n",
    "# ejemplos:\n",
    "# buscar_palabra(\"hola mundo\", \"hola\") -> True\n",
    "# buscar_palabra(\"hola mundo\", \"mundo\") -> True\n",
    "# buscar_palabra(\"hola mundo\", \"la\") -> True\n",
    "\n",
    "def buscar_palabra(texto, palabra):\n",
    "    import re\n",
    "    #buscar palabra\n",
    "    patron = palabra\n",
    "    matches = re.findall(patron, texto)\n",
    "    if len(matches) > 0:\n",
    "        return True\n",
    "    else:\n",
    "        return False\n",
    "    \n",
    "# test\n",
    "\n",
    "prueba = [\n",
    "    (\"hola mundo\", \"hola\", True),\n",
    "    (\"hola mundo\", \"mundo\", True),\n",
    "    (\"hola mundo\", \"la\", True),\n",
    "    (\"hola mundo\", \"ola\", False),\n",
    "    (\"hola mundo\", \"mund\", False),\n",
    "    (\"hola mundo\", \"mundoa\", False)\n",
    "]\n",
    "\n",
    "for p in prueba:\n",
    "    print(buscar_palabra(p[0], p[1])==p[2])\n",
    "\n",
    "\n"
   ]
  }
 ],
 "metadata": {
  "kernelspec": {
   "display_name": "TPfinal_ML",
   "language": "python",
   "name": "python3"
  },
  "language_info": {
   "codemirror_mode": {
    "name": "ipython",
    "version": 3
   },
   "file_extension": ".py",
   "mimetype": "text/x-python",
   "name": "python",
   "nbconvert_exporter": "python",
   "pygments_lexer": "ipython3",
   "version": "3.11.9"
  }
 },
 "nbformat": 4,
 "nbformat_minor": 2
}
