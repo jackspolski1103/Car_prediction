{
 "cells": [
  {
   "cell_type": "code",
   "execution_count": 1,
   "metadata": {},
   "outputs": [],
   "source": [
    "import numpy as np\n",
    "import pandas as pd"
   ]
  },
  {
   "cell_type": "code",
   "execution_count": 2,
   "metadata": {},
   "outputs": [
    {
     "data": {
      "text/html": [
       "<div>\n",
       "<style scoped>\n",
       "    .dataframe tbody tr th:only-of-type {\n",
       "        vertical-align: middle;\n",
       "    }\n",
       "\n",
       "    .dataframe tbody tr th {\n",
       "        vertical-align: top;\n",
       "    }\n",
       "\n",
       "    .dataframe thead th {\n",
       "        text-align: right;\n",
       "    }\n",
       "</style>\n",
       "<table border=\"1\" class=\"dataframe\">\n",
       "  <thead>\n",
       "    <tr style=\"text-align: right;\">\n",
       "      <th></th>\n",
       "      <th>Marca</th>\n",
       "      <th>Modelo</th>\n",
       "      <th>Año</th>\n",
       "      <th>Versión</th>\n",
       "      <th>Color</th>\n",
       "      <th>Tipo de combustible</th>\n",
       "      <th>Puertas</th>\n",
       "      <th>Transmisión</th>\n",
       "      <th>Motor</th>\n",
       "      <th>Tipo de carrocería</th>\n",
       "      <th>Kilómetros</th>\n",
       "      <th>Título</th>\n",
       "      <th>Precio</th>\n",
       "      <th>Moneda</th>\n",
       "      <th>Tipo de vendedor</th>\n",
       "      <th>Con cámara de retroceso</th>\n",
       "    </tr>\n",
       "  </thead>\n",
       "  <tbody>\n",
       "    <tr>\n",
       "      <th>0</th>\n",
       "      <td>Peugeot</td>\n",
       "      <td>2008</td>\n",
       "      <td>2022.0</td>\n",
       "      <td>1.6 Feline Tip am20</td>\n",
       "      <td>Blanco</td>\n",
       "      <td>Nafta</td>\n",
       "      <td>5.0</td>\n",
       "      <td>Automática</td>\n",
       "      <td>1.6</td>\n",
       "      <td>SUV</td>\n",
       "      <td>23000 km</td>\n",
       "      <td>Peugeot 2008 1.6 Feline Tip am20</td>\n",
       "      <td>22499999.0</td>\n",
       "      <td>$</td>\n",
       "      <td>tienda</td>\n",
       "      <td>NaN</td>\n",
       "    </tr>\n",
       "    <tr>\n",
       "      <th>1</th>\n",
       "      <td>Peugeot</td>\n",
       "      <td>2008</td>\n",
       "      <td>2021.0</td>\n",
       "      <td>1.6 Allure</td>\n",
       "      <td>Marrón</td>\n",
       "      <td>Nafta</td>\n",
       "      <td>5.0</td>\n",
       "      <td>Manual</td>\n",
       "      <td>1.6</td>\n",
       "      <td>SUV</td>\n",
       "      <td>17000 km</td>\n",
       "      <td>Peugeot 2008 1.6 Allure</td>\n",
       "      <td>21999999.0</td>\n",
       "      <td>$</td>\n",
       "      <td>tienda</td>\n",
       "      <td>NaN</td>\n",
       "    </tr>\n",
       "    <tr>\n",
       "      <th>2</th>\n",
       "      <td>Peugeot</td>\n",
       "      <td>2008</td>\n",
       "      <td>2021.0</td>\n",
       "      <td>1.6 Allure</td>\n",
       "      <td>Marrón</td>\n",
       "      <td>Nafta</td>\n",
       "      <td>5.0</td>\n",
       "      <td>Manual</td>\n",
       "      <td>1.6</td>\n",
       "      <td>SUV</td>\n",
       "      <td>17500 km</td>\n",
       "      <td>Peugeot 2008 1.6 Allure</td>\n",
       "      <td>20500000.0</td>\n",
       "      <td>$</td>\n",
       "      <td>tienda</td>\n",
       "      <td>NaN</td>\n",
       "    </tr>\n",
       "    <tr>\n",
       "      <th>3</th>\n",
       "      <td>Peugeot</td>\n",
       "      <td>2008</td>\n",
       "      <td>2018.0</td>\n",
       "      <td>1.6 Feline</td>\n",
       "      <td>Blanco</td>\n",
       "      <td>Nafta</td>\n",
       "      <td>5.0</td>\n",
       "      <td>Manual</td>\n",
       "      <td>1.6</td>\n",
       "      <td>SUV</td>\n",
       "      <td>123600 km</td>\n",
       "      <td>Peugeot 2008 1.6 Feline</td>\n",
       "      <td>15000000.0</td>\n",
       "      <td>$</td>\n",
       "      <td>tienda</td>\n",
       "      <td>NaN</td>\n",
       "    </tr>\n",
       "    <tr>\n",
       "      <th>4</th>\n",
       "      <td>Peugeot</td>\n",
       "      <td>2008</td>\n",
       "      <td>2016.0</td>\n",
       "      <td>1.6 Thp Sport</td>\n",
       "      <td>Gris</td>\n",
       "      <td>Nafta</td>\n",
       "      <td>5.0</td>\n",
       "      <td>Manual</td>\n",
       "      <td>1.6</td>\n",
       "      <td>SUV</td>\n",
       "      <td>43000 km</td>\n",
       "      <td>Peugeot 2008 1.6 Thp Sport</td>\n",
       "      <td>12500000.0</td>\n",
       "      <td>$</td>\n",
       "      <td>tienda</td>\n",
       "      <td>NaN</td>\n",
       "    </tr>\n",
       "  </tbody>\n",
       "</table>\n",
       "</div>"
      ],
      "text/plain": [
       "     Marca Modelo     Año              Versión   Color Tipo de combustible  \\\n",
       "0  Peugeot   2008  2022.0  1.6 Feline Tip am20  Blanco               Nafta   \n",
       "1  Peugeot   2008  2021.0           1.6 Allure  Marrón               Nafta   \n",
       "2  Peugeot   2008  2021.0           1.6 Allure  Marrón               Nafta   \n",
       "3  Peugeot   2008  2018.0           1.6 Feline  Blanco               Nafta   \n",
       "4  Peugeot   2008  2016.0        1.6 Thp Sport    Gris               Nafta   \n",
       "\n",
       "   Puertas Transmisión Motor Tipo de carrocería Kilómetros  \\\n",
       "0      5.0  Automática   1.6                SUV   23000 km   \n",
       "1      5.0      Manual   1.6                SUV   17000 km   \n",
       "2      5.0      Manual   1.6                SUV   17500 km   \n",
       "3      5.0      Manual   1.6                SUV  123600 km   \n",
       "4      5.0      Manual   1.6                SUV   43000 km   \n",
       "\n",
       "                             Título      Precio Moneda Tipo de vendedor  \\\n",
       "0  Peugeot 2008 1.6 Feline Tip am20  22499999.0      $           tienda   \n",
       "1           Peugeot 2008 1.6 Allure  21999999.0      $           tienda   \n",
       "2           Peugeot 2008 1.6 Allure  20500000.0      $           tienda   \n",
       "3           Peugeot 2008 1.6 Feline  15000000.0      $           tienda   \n",
       "4        Peugeot 2008 1.6 Thp Sport  12500000.0      $           tienda   \n",
       "\n",
       "  Con cámara de retroceso  \n",
       "0                     NaN  \n",
       "1                     NaN  \n",
       "2                     NaN  \n",
       "3                     NaN  \n",
       "4                     NaN  "
      ]
     },
     "execution_count": 2,
     "metadata": {},
     "output_type": "execute_result"
    }
   ],
   "source": [
    "data_file = '../../data/data.csv'\n",
    "df = pd.read_csv(data_file) \n",
    "df.head() "
   ]
  },
  {
   "cell_type": "markdown",
   "metadata": {},
   "source": [
    "## Modelos"
   ]
  },
  {
   "cell_type": "code",
   "execution_count": 3,
   "metadata": {},
   "outputs": [
    {
     "name": "stdout",
     "output_type": "stream",
     "text": [
      "Modelo\n",
      "2008       603\n",
      "208          3\n",
      "3008       263\n",
      "4008        26\n",
      "4RUNNER      8\n",
      "          ... \n",
      "X55         44\n",
      "X6          85\n",
      "X70         18\n",
      "XC40        26\n",
      "XC60        37\n",
      "Name: count, Length: 156, dtype: int64\n"
     ]
    }
   ],
   "source": [
    "from procesar_modelos import preprocesar_modelos\n",
    "\n",
    "preprocesar_modelos(df)\n",
    "modelos = df['Modelo'].value_counts() \n",
    "# ordenarlos alfabeticamente\n",
    "modelos = modelos.sort_index()\n",
    "print(modelos)"
   ]
  },
  {
   "cell_type": "markdown",
   "metadata": {},
   "source": [
    "## Colores "
   ]
  },
  {
   "cell_type": "code",
   "execution_count": 4,
   "metadata": {},
   "outputs": [
    {
     "name": "stdout",
     "output_type": "stream",
     "text": [
      "Color\n",
      "OTRO        7262\n",
      "GRIS        4678\n",
      "BLANCO      4051\n",
      "NEGRO       2199\n",
      "PLATEADO    1509\n",
      "AZUL         982\n",
      "ROJO         945\n",
      "MARRON       220\n",
      "DORADO       204\n",
      "VERDE        142\n",
      "CELESTE       63\n",
      "NARANJA       58\n",
      "AMARILLO      26\n",
      "BORDO         19\n",
      "VIOLETA       11\n",
      "BEIGE          8\n",
      "Name: count, dtype: int64\n"
     ]
    }
   ],
   "source": [
    "from procesar_colores import preprocesar_colores \n",
    "\n",
    "preprocesar_colores(df)\n",
    "colores = df['Color'].value_counts()\n",
    "print(colores) "
   ]
  },
  {
   "cell_type": "markdown",
   "metadata": {},
   "source": [
    "## Marcas "
   ]
  },
  {
   "cell_type": "code",
   "execution_count": 5,
   "metadata": {},
   "outputs": [
    {
     "name": "stdout",
     "output_type": "stream",
     "text": [
      "Marca\n",
      "JEEP             3099\n",
      "FORD             2606\n",
      "VOLKSWAGEN       2250\n",
      "RENAULT          2202\n",
      "CHEVROLET        2101\n",
      "TOYOTA           1906\n",
      "HONDA            1019\n",
      "PEUGEOT           906\n",
      "CITROËN           850\n",
      "AUDI              839\n",
      "BMW               637\n",
      "FIAT              615\n",
      "HYUNDAI           574\n",
      "MERCEDES-BENZ     505\n",
      "KIA               448\n",
      "CHERY             341\n",
      "NISSAN            311\n",
      "DODGE             272\n",
      "SUZUKI            138\n",
      "LAND              132\n",
      "BAIC               98\n",
      "PORSCHE            94\n",
      "MITSUBISHI         80\n",
      "SUBARU             72\n",
      "VOLVO              63\n",
      "DS                 33\n",
      "ALFA               26\n",
      "ISUZU              24\n",
      "HAVAL              23\n",
      "LEXUS              23\n",
      "LIFAN              16\n",
      "SSANGYONG          14\n",
      "GEELY              14\n",
      "JETOUR             13\n",
      "DAIHATSU           12\n",
      "MINI                9\n",
      "JAC                 6\n",
      "JAGUAR              4\n",
      "OTRO                2\n",
      "Name: count, dtype: int64\n"
     ]
    }
   ],
   "source": [
    "from procesar_marcas import preprocesar_marcas \n",
    "\n",
    "preprocesar_marcas(df)\n",
    "marcas = df['Marca'].value_counts()\n",
    "print(marcas)"
   ]
  },
  {
   "cell_type": "markdown",
   "metadata": {},
   "source": [
    "## Motor"
   ]
  },
  {
   "cell_type": "code",
   "execution_count": 3,
   "metadata": {},
   "outputs": [
    {
     "name": "stdout",
     "output_type": "stream",
     "text": [
      "Motor\n",
      "1       1103\n",
      "1.2      899\n",
      "1.3     1011\n",
      "1.4     1258\n",
      "1.5     1064\n",
      "1.6     4184\n",
      "1.8     2651\n",
      "1.9        3\n",
      "2       4258\n",
      "2.1        4\n",
      "2.2      208\n",
      "2.3        8\n",
      "2.4     1757\n",
      "2.5      633\n",
      "2.6        4\n",
      "2.7      136\n",
      "2.8      962\n",
      "2.9        6\n",
      "3        945\n",
      "3.1       14\n",
      "3.2       41\n",
      "3.3        9\n",
      "3.5      102\n",
      "3.6      305\n",
      "3.7       36\n",
      "3.8       60\n",
      "4        126\n",
      "4.2       24\n",
      "4.3        7\n",
      "4.4       26\n",
      "4.5       12\n",
      "4.6        1\n",
      "4.7       18\n",
      "4.8       28\n",
      "5          9\n",
      "5.2       22\n",
      "5.5        6\n",
      "5.7        8\n",
      "6          5\n",
      "6.1        7\n",
      "6.4       16\n",
      "8          4\n",
      "OTRO     389\n",
      "V6         6\n",
      "V8         2\n",
      "Name: count, dtype: int64\n"
     ]
    }
   ],
   "source": [
    "motores = df['Motor'].value_counts()\n",
    "# ordenarlos alfabeticamente\n",
    "motores = motores.sort_index()\n",
    "motores.to_csv('motores_ordenados.csv')\n",
    "# # print ALL motores with scrollable output\n",
    "# with pd.option_context('display.max_rows', None, 'display.max_columns', None):  # more options can be specified also\n",
    "#     print(motores)\n",
    "\n",
    "from procesar_motor import preprocesar_motor \n",
    "\n",
    "preprocesar_motor(df)\n",
    "motores = df['Motor'].value_counts()\n",
    "# ordenarlos alfabeticamente\n",
    "motores = motores.sort_index()\n",
    "print(motores)  \n"
   ]
  },
  {
   "cell_type": "markdown",
   "metadata": {},
   "source": [
    "## Transmisión"
   ]
  },
  {
   "cell_type": "code",
   "execution_count": 3,
   "metadata": {},
   "outputs": [
    {
     "name": "stdout",
     "output_type": "stream",
     "text": [
      "Transmisión\n",
      "AUTOMÁTICA    14431\n",
      "MANUAL         7914\n",
      "OTRO             32\n",
      "Name: count, dtype: int64\n"
     ]
    }
   ],
   "source": [
    "from procesar_transmision import preprocesar_transmision\n",
    "\n",
    "preprocesar_transmision(df)\n",
    "trans = df['Transmisión'].value_counts()\n",
    "print(trans)"
   ]
  },
  {
   "cell_type": "markdown",
   "metadata": {},
   "source": [
    "## Tipo de vendedor "
   ]
  },
  {
   "cell_type": "code",
   "execution_count": 3,
   "metadata": {},
   "outputs": [
    {
     "name": "stdout",
     "output_type": "stream",
     "text": [
      "Tipo de vendedor\n",
      "CONCESIONARIA    10698\n",
      "PARTICULAR        7430\n",
      "TIENDA            4244\n",
      "OTRO                 5\n",
      "Name: count, dtype: int64\n"
     ]
    }
   ],
   "source": [
    "from procesar_vendedor import preprocesar_vendedor\n",
    "\n",
    "preprocesar_vendedor(df)\n",
    "vendedores = df['Tipo de vendedor'].value_counts()\n",
    "print(vendedores)"
   ]
  },
  {
   "cell_type": "markdown",
   "metadata": {},
   "source": [
    "## Tipo de combustible"
   ]
  },
  {
   "cell_type": "code",
   "execution_count": 3,
   "metadata": {},
   "outputs": [
    {
     "name": "stdout",
     "output_type": "stream",
     "text": [
      "Tipo de combustible\n",
      "NAFTA             19383\n",
      "DIÉSEL             2443\n",
      "HÍBRIDO/NAFTA       250\n",
      "NAFTA/GNC           193\n",
      "ELÉCTRICO            48\n",
      "HÍBRIDO              42\n",
      "GNC                  17\n",
      "HÍBRIDO/DIESEL        1\n",
      "Name: count, dtype: int64\n"
     ]
    }
   ],
   "source": [
    "from procesar_combustible import preprocesar_combustible\n",
    "\n",
    "preprocesar_combustible(df)\n",
    "combustibles = df['Tipo de combustible'].value_counts()\n",
    "print(combustibles)"
   ]
  }
 ],
 "metadata": {
  "kernelspec": {
   "display_name": "TPfinal_ML",
   "language": "python",
   "name": "python3"
  },
  "language_info": {
   "codemirror_mode": {
    "name": "ipython",
    "version": 3
   },
   "file_extension": ".py",
   "mimetype": "text/x-python",
   "name": "python",
   "nbconvert_exporter": "python",
   "pygments_lexer": "ipython3",
   "version": "3.11.9"
  }
 },
 "nbformat": 4,
 "nbformat_minor": 2
}
