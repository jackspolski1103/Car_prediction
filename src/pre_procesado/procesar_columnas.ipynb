{
 "cells": [
  {
   "cell_type": "code",
   "execution_count": 1,
   "metadata": {},
   "outputs": [],
   "source": [
    "%reload_ext autoreload\n",
    "%autoreload 2\n",
    "import numpy as np\n",
    "import pandas as pd"
   ]
  },
  {
   "cell_type": "code",
   "execution_count": 2,
   "metadata": {},
   "outputs": [
    {
     "data": {
      "text/html": [
       "<div>\n",
       "<style scoped>\n",
       "    .dataframe tbody tr th:only-of-type {\n",
       "        vertical-align: middle;\n",
       "    }\n",
       "\n",
       "    .dataframe tbody tr th {\n",
       "        vertical-align: top;\n",
       "    }\n",
       "\n",
       "    .dataframe thead th {\n",
       "        text-align: right;\n",
       "    }\n",
       "</style>\n",
       "<table border=\"1\" class=\"dataframe\">\n",
       "  <thead>\n",
       "    <tr style=\"text-align: right;\">\n",
       "      <th></th>\n",
       "      <th>Marca</th>\n",
       "      <th>Modelo</th>\n",
       "      <th>Año</th>\n",
       "      <th>Versión</th>\n",
       "      <th>Color</th>\n",
       "      <th>Tipo de combustible</th>\n",
       "      <th>Puertas</th>\n",
       "      <th>Transmisión</th>\n",
       "      <th>Motor</th>\n",
       "      <th>Tipo de carrocería</th>\n",
       "      <th>Kilómetros</th>\n",
       "      <th>Título</th>\n",
       "      <th>Precio</th>\n",
       "      <th>Moneda</th>\n",
       "      <th>Tipo de vendedor</th>\n",
       "      <th>Con cámara de retroceso</th>\n",
       "    </tr>\n",
       "  </thead>\n",
       "  <tbody>\n",
       "    <tr>\n",
       "      <th>0</th>\n",
       "      <td>Peugeot</td>\n",
       "      <td>2008</td>\n",
       "      <td>2022.0</td>\n",
       "      <td>1.6 Feline Tip am20</td>\n",
       "      <td>Blanco</td>\n",
       "      <td>Nafta</td>\n",
       "      <td>5.0</td>\n",
       "      <td>Automática</td>\n",
       "      <td>1.6</td>\n",
       "      <td>SUV</td>\n",
       "      <td>23000 km</td>\n",
       "      <td>Peugeot 2008 1.6 Feline Tip am20</td>\n",
       "      <td>22499999.0</td>\n",
       "      <td>$</td>\n",
       "      <td>tienda</td>\n",
       "      <td>NaN</td>\n",
       "    </tr>\n",
       "    <tr>\n",
       "      <th>1</th>\n",
       "      <td>Peugeot</td>\n",
       "      <td>2008</td>\n",
       "      <td>2021.0</td>\n",
       "      <td>1.6 Allure</td>\n",
       "      <td>Marrón</td>\n",
       "      <td>Nafta</td>\n",
       "      <td>5.0</td>\n",
       "      <td>Manual</td>\n",
       "      <td>1.6</td>\n",
       "      <td>SUV</td>\n",
       "      <td>17000 km</td>\n",
       "      <td>Peugeot 2008 1.6 Allure</td>\n",
       "      <td>21999999.0</td>\n",
       "      <td>$</td>\n",
       "      <td>tienda</td>\n",
       "      <td>NaN</td>\n",
       "    </tr>\n",
       "    <tr>\n",
       "      <th>2</th>\n",
       "      <td>Peugeot</td>\n",
       "      <td>2008</td>\n",
       "      <td>2021.0</td>\n",
       "      <td>1.6 Allure</td>\n",
       "      <td>Marrón</td>\n",
       "      <td>Nafta</td>\n",
       "      <td>5.0</td>\n",
       "      <td>Manual</td>\n",
       "      <td>1.6</td>\n",
       "      <td>SUV</td>\n",
       "      <td>17500 km</td>\n",
       "      <td>Peugeot 2008 1.6 Allure</td>\n",
       "      <td>20500000.0</td>\n",
       "      <td>$</td>\n",
       "      <td>tienda</td>\n",
       "      <td>NaN</td>\n",
       "    </tr>\n",
       "    <tr>\n",
       "      <th>3</th>\n",
       "      <td>Peugeot</td>\n",
       "      <td>2008</td>\n",
       "      <td>2018.0</td>\n",
       "      <td>1.6 Feline</td>\n",
       "      <td>Blanco</td>\n",
       "      <td>Nafta</td>\n",
       "      <td>5.0</td>\n",
       "      <td>Manual</td>\n",
       "      <td>1.6</td>\n",
       "      <td>SUV</td>\n",
       "      <td>123600 km</td>\n",
       "      <td>Peugeot 2008 1.6 Feline</td>\n",
       "      <td>15000000.0</td>\n",
       "      <td>$</td>\n",
       "      <td>tienda</td>\n",
       "      <td>NaN</td>\n",
       "    </tr>\n",
       "    <tr>\n",
       "      <th>4</th>\n",
       "      <td>Peugeot</td>\n",
       "      <td>2008</td>\n",
       "      <td>2016.0</td>\n",
       "      <td>1.6 Thp Sport</td>\n",
       "      <td>Gris</td>\n",
       "      <td>Nafta</td>\n",
       "      <td>5.0</td>\n",
       "      <td>Manual</td>\n",
       "      <td>1.6</td>\n",
       "      <td>SUV</td>\n",
       "      <td>43000 km</td>\n",
       "      <td>Peugeot 2008 1.6 Thp Sport</td>\n",
       "      <td>12500000.0</td>\n",
       "      <td>$</td>\n",
       "      <td>tienda</td>\n",
       "      <td>NaN</td>\n",
       "    </tr>\n",
       "  </tbody>\n",
       "</table>\n",
       "</div>"
      ],
      "text/plain": [
       "     Marca Modelo     Año              Versión   Color Tipo de combustible  \\\n",
       "0  Peugeot   2008  2022.0  1.6 Feline Tip am20  Blanco               Nafta   \n",
       "1  Peugeot   2008  2021.0           1.6 Allure  Marrón               Nafta   \n",
       "2  Peugeot   2008  2021.0           1.6 Allure  Marrón               Nafta   \n",
       "3  Peugeot   2008  2018.0           1.6 Feline  Blanco               Nafta   \n",
       "4  Peugeot   2008  2016.0        1.6 Thp Sport    Gris               Nafta   \n",
       "\n",
       "   Puertas Transmisión Motor Tipo de carrocería Kilómetros  \\\n",
       "0      5.0  Automática   1.6                SUV   23000 km   \n",
       "1      5.0      Manual   1.6                SUV   17000 km   \n",
       "2      5.0      Manual   1.6                SUV   17500 km   \n",
       "3      5.0      Manual   1.6                SUV  123600 km   \n",
       "4      5.0      Manual   1.6                SUV   43000 km   \n",
       "\n",
       "                             Título      Precio Moneda Tipo de vendedor  \\\n",
       "0  Peugeot 2008 1.6 Feline Tip am20  22499999.0      $           tienda   \n",
       "1           Peugeot 2008 1.6 Allure  21999999.0      $           tienda   \n",
       "2           Peugeot 2008 1.6 Allure  20500000.0      $           tienda   \n",
       "3           Peugeot 2008 1.6 Feline  15000000.0      $           tienda   \n",
       "4        Peugeot 2008 1.6 Thp Sport  12500000.0      $           tienda   \n",
       "\n",
       "  Con cámara de retroceso  \n",
       "0                     NaN  \n",
       "1                     NaN  \n",
       "2                     NaN  \n",
       "3                     NaN  \n",
       "4                     NaN  "
      ]
     },
     "execution_count": 2,
     "metadata": {},
     "output_type": "execute_result"
    }
   ],
   "source": [
    "data_file = '../../data/data.csv'\n",
    "df = pd.read_csv(data_file) \n",
    "df.head() "
   ]
  },
  {
   "cell_type": "markdown",
   "metadata": {},
   "source": [
    "## Modelos"
   ]
  },
  {
   "cell_type": "code",
   "execution_count": 3,
   "metadata": {},
   "outputs": [
    {
     "name": "stdout",
     "output_type": "stream",
     "text": [
      "Modelo\n",
      "2008       603\n",
      "208          3\n",
      "3008       263\n",
      "4008        26\n",
      "4RUNNER      8\n",
      "          ... \n",
      "X55         44\n",
      "X6          85\n",
      "X70         18\n",
      "XC40        26\n",
      "XC60        37\n",
      "Name: count, Length: 156, dtype: int64\n"
     ]
    }
   ],
   "source": [
    "from modelo.procesar_modelos import preprocesar_modelos\n",
    "\n",
    "preprocesar_modelos(df)\n",
    "modelos = df['Modelo'].value_counts() \n",
    "# ordenarlos alfabeticamente\n",
    "modelos = modelos.sort_index()\n",
    "print(modelos)"
   ]
  },
  {
   "cell_type": "markdown",
   "metadata": {},
   "source": [
    "## Colores "
   ]
  },
  {
   "cell_type": "code",
   "execution_count": 4,
   "metadata": {},
   "outputs": [
    {
     "name": "stdout",
     "output_type": "stream",
     "text": [
      "Color\n",
      "OTRO        7262\n",
      "GRIS        4678\n",
      "BLANCO      4051\n",
      "NEGRO       2199\n",
      "PLATEADO    1509\n",
      "AZUL         982\n",
      "ROJO         945\n",
      "MARRON       220\n",
      "DORADO       204\n",
      "VERDE        142\n",
      "CELESTE       63\n",
      "NARANJA       58\n",
      "AMARILLO      26\n",
      "BORDO         19\n",
      "VIOLETA       11\n",
      "BEIGE          8\n",
      "Name: count, dtype: int64\n"
     ]
    }
   ],
   "source": [
    "from color.procesar_colores import preprocesar_colores \n",
    "\n",
    "preprocesar_colores(df)\n",
    "colores = df['Color'].value_counts()\n",
    "print(colores) "
   ]
  },
  {
   "cell_type": "markdown",
   "metadata": {},
   "source": [
    "## Marcas "
   ]
  },
  {
   "cell_type": "code",
   "execution_count": 5,
   "metadata": {},
   "outputs": [
    {
     "name": "stdout",
     "output_type": "stream",
     "text": [
      "Marca\n",
      "JEEP             3099\n",
      "FORD             2606\n",
      "VOLKSWAGEN       2250\n",
      "RENAULT          2202\n",
      "CHEVROLET        2101\n",
      "TOYOTA           1906\n",
      "HONDA            1019\n",
      "PEUGEOT           906\n",
      "CITROËN           850\n",
      "AUDI              839\n",
      "BMW               637\n",
      "FIAT              615\n",
      "HYUNDAI           574\n",
      "MERCEDES-BENZ     505\n",
      "KIA               448\n",
      "CHERY             341\n",
      "NISSAN            311\n",
      "DODGE             272\n",
      "SUZUKI            138\n",
      "LAND              132\n",
      "BAIC               98\n",
      "PORSCHE            94\n",
      "MITSUBISHI         80\n",
      "SUBARU             72\n",
      "VOLVO              63\n",
      "DS                 33\n",
      "ALFA               26\n",
      "ISUZU              24\n",
      "HAVAL              23\n",
      "LEXUS              23\n",
      "LIFAN              16\n",
      "SSANGYONG          14\n",
      "GEELY              14\n",
      "JETOUR             13\n",
      "DAIHATSU           12\n",
      "MINI                9\n",
      "JAC                 6\n",
      "JAGUAR              4\n",
      "OTRO                2\n",
      "Name: count, dtype: int64\n"
     ]
    }
   ],
   "source": [
    "from marca.procesar_marcas import preprocesar_marcas \n",
    "\n",
    "preprocesar_marcas(df)\n",
    "marcas = df['Marca'].value_counts()\n",
    "print(marcas)"
   ]
  },
  {
   "cell_type": "markdown",
   "metadata": {},
   "source": [
    "## Motor"
   ]
  },
  {
   "cell_type": "code",
   "execution_count": 6,
   "metadata": {},
   "outputs": [
    {
     "data": {
      "text/plain": [
       "Cilindrada\n",
       "2.0    4252\n",
       "1.6    4182\n",
       "1.8    2650\n",
       "2.4    1756\n",
       "1.4    1257\n",
       "1.0    1067\n",
       "1.5    1064\n",
       "1.3    1016\n",
       "2.8     963\n",
       "3.0     944\n",
       "1.2     898\n",
       "2.5     630\n",
       "0.0     446\n",
       "3.6     305\n",
       "2.2     204\n",
       "2.7     136\n",
       "4.0     126\n",
       "3.5     102\n",
       "3.8      60\n",
       "3.2      41\n",
       "3.7      36\n",
       "4.8      28\n",
       "4.4      27\n",
       "4.2      24\n",
       "5.2      22\n",
       "4.7      18\n",
       "6.4      16\n",
       "3.1      14\n",
       "4.5      12\n",
       "6.0      10\n",
       "3.3       9\n",
       "5.0       8\n",
       "5.7       8\n",
       "2.3       8\n",
       "4.3       7\n",
       "6.1       7\n",
       "5.5       6\n",
       "2.9       6\n",
       "8.0       4\n",
       "2.6       4\n",
       "1.9       2\n",
       "2.1       1\n",
       "4.6       1\n",
       "Name: count, dtype: int64"
      ]
     },
     "execution_count": 6,
     "metadata": {},
     "output_type": "execute_result"
    }
   ],
   "source": [
    "from motor.procesar_motor import preprocesar_motor \n",
    "\n",
    "preprocesar_motor(df) \n",
    "motores = df['Cilindrada'].value_counts()\n",
    "motores \n"
   ]
  },
  {
   "cell_type": "markdown",
   "metadata": {},
   "source": [
    "## Transmisión"
   ]
  },
  {
   "cell_type": "code",
   "execution_count": 7,
   "metadata": {},
   "outputs": [
    {
     "name": "stdout",
     "output_type": "stream",
     "text": [
      "Transmisión\n",
      "AUTOMÁTICA    14431\n",
      "MANUAL         7914\n",
      "OTRO             32\n",
      "Name: count, dtype: int64\n"
     ]
    }
   ],
   "source": [
    "from transmision.procesar_transmision import preprocesar_transmision\n",
    "\n",
    "preprocesar_transmision(df)\n",
    "trans = df['Transmisión'].value_counts()\n",
    "print(trans)"
   ]
  },
  {
   "cell_type": "markdown",
   "metadata": {},
   "source": [
    "## Tipo de vendedor "
   ]
  },
  {
   "cell_type": "code",
   "execution_count": 8,
   "metadata": {},
   "outputs": [
    {
     "name": "stdout",
     "output_type": "stream",
     "text": [
      "Tipo de vendedor\n",
      "CONCESIONARIA    10698\n",
      "PARTICULAR        7430\n",
      "TIENDA            4244\n",
      "OTRO                 5\n",
      "Name: count, dtype: int64\n"
     ]
    }
   ],
   "source": [
    "from vendedor.procesar_vendedor import preprocesar_vendedor\n",
    "\n",
    "preprocesar_vendedor(df)\n",
    "vendedores = df['Tipo de vendedor'].value_counts()\n",
    "print(vendedores)"
   ]
  },
  {
   "cell_type": "markdown",
   "metadata": {},
   "source": [
    "## Tipo de combustible"
   ]
  },
  {
   "cell_type": "code",
   "execution_count": 9,
   "metadata": {},
   "outputs": [
    {
     "name": "stdout",
     "output_type": "stream",
     "text": [
      "Tipo de combustible\n",
      "NAFTA             19383\n",
      "DIÉSEL             2443\n",
      "HÍBRIDO/NAFTA       250\n",
      "NAFTA/GNC           193\n",
      "ELÉCTRICO            48\n",
      "HÍBRIDO              42\n",
      "GNC                  17\n",
      "HÍBRIDO/DIESEL        1\n",
      "Name: count, dtype: int64\n"
     ]
    }
   ],
   "source": [
    "from combustible.procesar_combustible import preprocesar_combustible\n",
    "\n",
    "preprocesar_combustible(df)\n",
    "combustibles = df['Tipo de combustible'].value_counts()\n",
    "print(combustibles)"
   ]
  },
  {
   "cell_type": "markdown",
   "metadata": {},
   "source": [
    "## Año"
   ]
  },
  {
   "cell_type": "code",
   "execution_count": 10,
   "metadata": {},
   "outputs": [
    {
     "data": {
      "text/plain": [
       "Año\n",
       "2024.0    3341\n",
       "2023.0    2631\n",
       "2018.0    2043\n",
       "2017.0    1928\n",
       "2019.0    1465\n",
       "2013.0    1304\n",
       "2016.0    1264\n",
       "2021.0    1156\n",
       "2022.0    1152\n",
       "2020.0    1078\n",
       "2012.0     859\n",
       "2011.0     696\n",
       "2014.0     673\n",
       "2015.0     648\n",
       "2010.0     442\n",
       "2008.0     369\n",
       "2009.0     313\n",
       "2007.0     219\n",
       "2006.0     159\n",
       "2005.0      88\n",
       "1999.0      82\n",
       "1998.0      81\n",
       "2004.0      61\n",
       "2000.0      59\n",
       "2001.0      52\n",
       "1997.0      51\n",
       "1994.0      29\n",
       "2003.0      24\n",
       "1996.0      24\n",
       "1993.0      23\n",
       "2002.0      23\n",
       "1995.0      19\n",
       "1992.0      11\n",
       "1987.0       6\n",
       "1991.0       4\n",
       "Name: count, dtype: int64"
      ]
     },
     "execution_count": 10,
     "metadata": {},
     "output_type": "execute_result"
    }
   ],
   "source": [
    "from año.procesar_año import preprocesar_año\n",
    "\n",
    "preprocesar_año(df)\n",
    "años = df['Año'].value_counts()\n",
    "años "
   ]
  },
  {
   "cell_type": "markdown",
   "metadata": {},
   "source": [
    "## Versión "
   ]
  },
  {
   "cell_type": "code",
   "execution_count": 11,
   "metadata": {},
   "outputs": [
    {
     "data": {
      "text/plain": [
       "Versión\n",
       "OTRO           2466\n",
       "SPORT          1925\n",
       "TITANIUM        857\n",
       "LTZ             831\n",
       "COMFORTLINE     801\n",
       "               ... \n",
       "TRACK             2\n",
       "GTS               2\n",
       "NATURE            2\n",
       "LE                2\n",
       "PEPPERS           1\n",
       "Name: count, Length: 134, dtype: int64"
      ]
     },
     "execution_count": 11,
     "metadata": {},
     "output_type": "execute_result"
    }
   ],
   "source": [
    "from version.procesar_versiones import preprocesar_versiones\n",
    "\n",
    "new_df = preprocesar_versiones(df)\n",
    "versiones = new_df['Versión'].value_counts()\n",
    "versiones \n"
   ]
  },
  {
   "cell_type": "markdown",
   "metadata": {},
   "source": [
    "## Precio\n"
   ]
  },
  {
   "cell_type": "code",
   "execution_count": 12,
   "metadata": {},
   "outputs": [
    {
     "data": {
      "text/plain": [
       "Precio\n",
       "20000.0000     279\n",
       "15000.0000     271\n",
       "12000.0000     202\n",
       "22000.0000     187\n",
       "25000.0000     180\n",
       "              ... \n",
       "32777.7556       1\n",
       "63944.4444       1\n",
       "51555.5556       1\n",
       "57288.8889       1\n",
       "178900.0000      1\n",
       "Name: count, Length: 3419, dtype: int64"
      ]
     },
     "execution_count": 12,
     "metadata": {},
     "output_type": "execute_result"
    }
   ],
   "source": [
    "from precio.procesar_precio import preprocesar_precio\n",
    "\n",
    "preprocesar_precio(df)\n",
    "precios = df['Precio'].value_counts()\n",
    "precios\n"
   ]
  },
  {
   "cell_type": "markdown",
   "metadata": {},
   "source": [
    "## Kilometros"
   ]
  },
  {
   "cell_type": "code",
   "execution_count": 13,
   "metadata": {},
   "outputs": [
    {
     "data": {
      "text/plain": [
       "Kilómetros\n",
       "0         4851\n",
       "90000      249\n",
       "1000       245\n",
       "120000     242\n",
       "130000     230\n",
       "          ... \n",
       "85345        1\n",
       "67202        1\n",
       "74275        1\n",
       "28167        1\n",
       "104200       1\n",
       "Name: count, Length: 2620, dtype: int64"
      ]
     },
     "execution_count": 13,
     "metadata": {},
     "output_type": "execute_result"
    }
   ],
   "source": [
    "from kilometro.procesar_kilometro import preprocesar_kilometro \n",
    "\n",
    "preprocesar_kilometro(df)\n",
    "km = df['Kilómetros'].value_counts()\n",
    "km  "
   ]
  },
  {
   "cell_type": "markdown",
   "metadata": {},
   "source": [
    "## Turbo "
   ]
  },
  {
   "cell_type": "code",
   "execution_count": 15,
   "metadata": {},
   "outputs": [
    {
     "data": {
      "text/plain": [
       "Turbo\n",
       "NO    15729\n",
       "SI     6648\n",
       "Name: count, dtype: int64"
      ]
     },
     "execution_count": 15,
     "metadata": {},
     "output_type": "execute_result"
    }
   ],
   "source": [
    "from turbo.procesar_turbo import preprocesar_turbo\n",
    "\n",
    "t_df = preprocesar_turbo(df)\n",
    "turbo = t_df['Turbo'].value_counts()\n",
    "turbo"
   ]
  },
  {
   "cell_type": "markdown",
   "metadata": {},
   "source": [
    "## 7 Plazas"
   ]
  },
  {
   "cell_type": "code",
   "execution_count": 17,
   "metadata": {},
   "outputs": [
    {
     "data": {
      "text/plain": [
       "7plazas\n",
       "NO    21878\n",
       "SI      499\n",
       "Name: count, dtype: int64"
      ]
     },
     "execution_count": 17,
     "metadata": {},
     "output_type": "execute_result"
    }
   ],
   "source": [
    "from plaza.procesar_7plazas import preprocesar_7plazas\n",
    "\n",
    "p_df = preprocesar_7plazas(df)\n",
    "plazas = p_df['7plazas'].value_counts()\n",
    "plazas"
   ]
  },
  {
   "cell_type": "markdown",
   "metadata": {},
   "source": [
    "## Cosas varias"
   ]
  },
  {
   "cell_type": "code",
   "execution_count": null,
   "metadata": {},
   "outputs": [],
   "source": [
    "#hacer funcion que entre a carpeta version/info donde hay .txt y cambie los nombres a mayuscula\n",
    "\n",
    "import os\n",
    "\n",
    "def cambiar_nombres_mayuscula(carpeta):\n",
    "    archivos = os.listdir(carpeta)\n",
    "    for archivo in archivos:\n",
    "        os.rename(carpeta + archivo, carpeta + archivo.upper())\n",
    "\n",
    "# test\n",
    "carpeta = './Version/info/'\n",
    "cambiar_nombres_mayuscula(carpeta)\n",
    "\n",
    "#funcion que entre a carpeta version/info donde hay .txt y cambie donde dice .TXT a .txt\n",
    "\n",
    "def cambiar_extension(carpeta):\n",
    "    archivos = os.listdir(carpeta)\n",
    "    for archivo in archivos:\n",
    "        os.rename(carpeta + archivo, carpeta + archivo.replace('.TXT', '.txt'))\n",
    "\n",
    "# test\n",
    "cambiar_extension(carpeta)\n"
   ]
  }
 ],
 "metadata": {
  "kernelspec": {
   "display_name": "TPfinal_ML",
   "language": "python",
   "name": "python3"
  },
  "language_info": {
   "codemirror_mode": {
    "name": "ipython",
    "version": 3
   },
   "file_extension": ".py",
   "mimetype": "text/x-python",
   "name": "python",
   "nbconvert_exporter": "python",
   "pygments_lexer": "ipython3",
   "version": "3.11.9"
  }
 },
 "nbformat": 4,
 "nbformat_minor": 2
}
