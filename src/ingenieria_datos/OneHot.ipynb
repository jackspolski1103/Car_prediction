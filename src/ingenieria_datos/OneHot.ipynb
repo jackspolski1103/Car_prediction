{
 "cells": [
  {
   "cell_type": "code",
   "execution_count": 1,
   "metadata": {},
   "outputs": [],
   "source": [
    "import numpy as np \n",
    "import pandas as pd \n",
    "from sklearn.preprocessing import OneHotEncoder\n",
    "from sklearn.compose import ColumnTransformer"
   ]
  },
  {
   "cell_type": "code",
   "execution_count": 2,
   "metadata": {},
   "outputs": [],
   "source": [
    "df = pd.read_csv('../../data/Limpio/PreProcesado/train.csv')"
   ]
  },
  {
   "cell_type": "code",
   "execution_count": 3,
   "metadata": {},
   "outputs": [
    {
     "name": "stdout",
     "output_type": "stream",
     "text": [
      "[[2.02300000e+03 5.00000000e+03 1.20000000e+00 ... 0.00000000e+00\n",
      "  1.00000000e+00 3.00970874e+04]\n",
      " [2.01200000e+03 1.06000000e+05 2.40000000e+00 ... 1.00000000e+00\n",
      "  0.00000000e+00 1.20000000e+04]\n",
      " [2.02000000e+03 8.00000000e+04 1.80000000e+00 ... 1.00000000e+00\n",
      "  0.00000000e+00 2.10000000e+04]\n",
      " ...\n",
      " [2.01800000e+03 1.27000000e+05 1.60000000e+00 ... 1.00000000e+00\n",
      "  0.00000000e+00 1.62135922e+04]\n",
      " [2.01100000e+03 1.77500000e+05 2.40000000e+00 ... 1.00000000e+00\n",
      "  0.00000000e+00 1.53000000e+04]\n",
      " [2.01700000e+03 7.95000000e+04 1.60000000e+00 ... 1.00000000e+00\n",
      "  0.00000000e+00 1.33495146e+04]]\n"
     ]
    }
   ],
   "source": [
    "def feature_engineering(df):\n",
    "    onehot = OneHotEncoder()\n",
    "    df.drop(columns = ['Título', 'Tipo de carrocería', 'Puertas', 'Moneda', 'Motor'], inplace=True)\n",
    "    columns_to_keep = df[['Año','Kilómetros', 'Precio', 'Cilindrada', 'Tracción', 'Turbo', '7plazas']]\n",
    "    arrays = onehot.fit_transform(df[['Marca', 'Modelo', 'Versión', 'Color', 'Tracción', 'Transmisión', 'Tipo de vendedor', 'Tipo de combustible', 'Con cámara de retroceso']]).toarray() \n",
    "    new_features = onehot.categories_\n",
    "    new_features = np.concatenate(new_features)\n",
    "    encoded_df = pd.DataFrame(arrays, columns=new_features)\n",
    "    final_df = pd.concat([columns_to_keep.reset_index(drop=True), encoded_df.reset_index(drop=True)], axis=1)\n",
    "\n",
    "    # a la columna \"Traccion\" donde dice \"4X4\" ponerle 1 y a las demas 0 \n",
    "    final_df['Tracción'] = final_df['Tracción'].apply(lambda x: 1 if x == '4X4' else 0)\n",
    "    final_df['Turbo'] = final_df['Turbo'].apply(lambda x: 1 if x == 'SI' else 0)\n",
    "    final_df['7plazas'] = final_df['7plazas'].apply(lambda x: 1 if x == 'SI' else 0)\n",
    "\n",
    "    # poner la columna precio como la ultima columna del final_df \n",
    "    precio = final_df.pop('Precio')\n",
    "    final_df['Precio'] = precio\n",
    "    return final_df\n",
    "\n",
    "df_final = feature_engineering(df)\n",
    "df_final.head()\n"
   ]
  }
 ],
 "metadata": {
  "kernelspec": {
   "display_name": "TPfinal_ML",
   "language": "python",
   "name": "python3"
  },
  "language_info": {
   "codemirror_mode": {
    "name": "ipython",
    "version": 3
   },
   "file_extension": ".py",
   "mimetype": "text/x-python",
   "name": "python",
   "nbconvert_exporter": "python",
   "pygments_lexer": "ipython3",
   "version": "3.11.9"
  }
 },
 "nbformat": 4,
 "nbformat_minor": 2
}
