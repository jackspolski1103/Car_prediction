{
 "cells": [
  {
   "cell_type": "code",
   "execution_count": 1,
   "metadata": {},
   "outputs": [],
   "source": [
    "import numpy as np \n",
    "import pandas as pd \n",
    "from sklearn.preprocessing import OneHotEncoder\n",
    "from sklearn.compose import ColumnTransformer"
   ]
  },
  {
   "cell_type": "code",
   "execution_count": 2,
   "metadata": {},
   "outputs": [],
   "source": [
    "df = pd.read_csv('../../data/Limpio/PreProcesado/train.csv')"
   ]
  },
  {
   "cell_type": "code",
   "execution_count": 3,
   "metadata": {},
   "outputs": [
    {
     "name": "stdout",
     "output_type": "stream",
     "text": [
      "(20139, 370)\n",
      "(20139,)\n"
     ]
    }
   ],
   "source": [
    "def OneHot(df): \n",
    "    onehot = OneHotEncoder()\n",
    "    df.drop(columns = ['Título', 'Tipo de carrocería', 'Puertas', 'Moneda', 'Motor'], inplace=True)\n",
    "    columns_to_keep = df[['Año','Kilómetros', 'Precio', 'Cilindrada', 'Tracción', 'Turbo', '7plazas']]\n",
    "    arrays = onehot.fit_transform(df[['Marca', 'Modelo', 'Versión', 'Color', 'Tracción', 'Transmisión', 'Tipo de vendedor', 'Tipo de combustible', 'Con cámara de retroceso']]).toarray() \n",
    "    new_features = onehot.categories_\n",
    "    new_features = np.concatenate(new_features)\n",
    "    encoded_df = pd.DataFrame(arrays, columns=new_features)\n",
    "    final_df = pd.concat([columns_to_keep.reset_index(drop=True), encoded_df.reset_index(drop=True)], axis=1)\n",
    "\n",
    "    # a la columna \"Traccion\" donde dice \"4X4\" ponerle 1 y a las demas 0 \n",
    "    final_df['Tracción'] = final_df['Tracción'].apply(lambda x: 1 if x == '4X4' else 0)\n",
    "    final_df['Turbo'] = final_df['Turbo'].apply(lambda x: 1 if x == 'SI' else 0)\n",
    "    final_df['7plazas'] = final_df['7plazas'].apply(lambda x: 1 if x == 'SI' else 0)\n",
    "\n",
    "    df_precio = final_df['Precio']\n",
    "    final_df.drop(columns = ['Precio'], inplace = True)\n",
    "\n",
    "    # paso a numpy array\n",
    "    X = final_df.values\n",
    "    Y = df_precio.values \n",
    "    print(X.shape)\n",
    "    print(Y.shape)\n",
    "    return X, Y  \n",
    "\n",
    "\n"
   ]
  }
 ],
 "metadata": {
  "kernelspec": {
   "display_name": "TPfinal_ML",
   "language": "python",
   "name": "python3"
  },
  "language_info": {
   "codemirror_mode": {
    "name": "ipython",
    "version": 3
   },
   "file_extension": ".py",
   "mimetype": "text/x-python",
   "name": "python",
   "nbconvert_exporter": "python",
   "pygments_lexer": "ipython3",
   "version": "3.11.9"
  }
 },
 "nbformat": 4,
 "nbformat_minor": 2
}
