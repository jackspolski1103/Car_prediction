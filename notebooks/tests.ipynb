{
 "cells": [
  {
   "cell_type": "code",
   "execution_count": 1,
   "metadata": {},
   "outputs": [],
   "source": [
    "import numpy as np\n"
   ]
  },
  {
   "cell_type": "code",
   "execution_count": 2,
   "metadata": {},
   "outputs": [],
   "source": [
    "#descargar datos\n",
    "\n",
    "x_train= np.load('../results/OneHot/metadata_train.npy')\n"
   ]
  },
  {
   "cell_type": "code",
   "execution_count": 4,
   "metadata": {},
   "outputs": [
    {
     "name": "stdout",
     "output_type": "stream",
     "text": [
      "[[2.02300000e+03 5.00000000e+03 1.20000000e+00 ... 0.00000000e+00\n",
      "  1.00000000e+00 3.00970874e+04]\n",
      " [2.01200000e+03 1.06000000e+05 2.40000000e+00 ... 1.00000000e+00\n",
      "  0.00000000e+00 1.20000000e+04]\n",
      " [2.02000000e+03 8.00000000e+04 1.80000000e+00 ... 1.00000000e+00\n",
      "  0.00000000e+00 2.10000000e+04]\n",
      " ...\n",
      " [2.02000000e+03 5.00000000e+04 1.50000000e+00 ... 1.00000000e+00\n",
      "  0.00000000e+00 1.80000000e+04]\n",
      " [2.01700000e+03 1.06000000e+05 1.80000000e+00 ... 1.00000000e+00\n",
      "  0.00000000e+00 1.72815534e+04]\n",
      " [2.01300000e+03 1.20000000e+05 1.60000000e+00 ... 1.00000000e+00\n",
      "  0.00000000e+00 8.54368930e+03]]\n"
     ]
    }
   ],
   "source": []
  }
 ],
 "metadata": {
  "kernelspec": {
   "display_name": "TPML",
   "language": "python",
   "name": "python3"
  },
  "language_info": {
   "codemirror_mode": {
    "name": "ipython",
    "version": 3
   },
   "file_extension": ".py",
   "mimetype": "text/x-python",
   "name": "python",
   "nbconvert_exporter": "python",
   "pygments_lexer": "ipython3",
   "version": "3.11.9"
  }
 },
 "nbformat": 4,
 "nbformat_minor": 2
}
