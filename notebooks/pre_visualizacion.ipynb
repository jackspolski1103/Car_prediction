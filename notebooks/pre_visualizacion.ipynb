{
 "cells": [
  {
   "cell_type": "code",
   "execution_count": 2,
   "metadata": {},
   "outputs": [],
   "source": [
    "import numpy as np\n",
    "import matplotlib.pyplot as plt\n",
    "import pandas as pd"
   ]
  },
  {
   "cell_type": "code",
   "execution_count": 3,
   "metadata": {},
   "outputs": [],
   "source": [
    "#leer el archivo csv\n",
    "data = pd.read_csv('../data/data.csv')\n"
   ]
  },
  {
   "cell_type": "code",
   "execution_count": 4,
   "metadata": {},
   "outputs": [
    {
     "data": {
      "text/html": [
       "<div>\n",
       "<style scoped>\n",
       "    .dataframe tbody tr th:only-of-type {\n",
       "        vertical-align: middle;\n",
       "    }\n",
       "\n",
       "    .dataframe tbody tr th {\n",
       "        vertical-align: top;\n",
       "    }\n",
       "\n",
       "    .dataframe thead th {\n",
       "        text-align: right;\n",
       "    }\n",
       "</style>\n",
       "<table border=\"1\" class=\"dataframe\">\n",
       "  <thead>\n",
       "    <tr style=\"text-align: right;\">\n",
       "      <th></th>\n",
       "      <th>Marca</th>\n",
       "      <th>Modelo</th>\n",
       "      <th>Año</th>\n",
       "      <th>Versión</th>\n",
       "      <th>Color</th>\n",
       "      <th>Tipo de combustible</th>\n",
       "      <th>Puertas</th>\n",
       "      <th>Transmisión</th>\n",
       "      <th>Motor</th>\n",
       "      <th>Tipo de carrocería</th>\n",
       "      <th>Kilómetros</th>\n",
       "      <th>Título</th>\n",
       "      <th>Precio</th>\n",
       "      <th>Moneda</th>\n",
       "      <th>Tipo de vendedor</th>\n",
       "      <th>Con cámara de retroceso</th>\n",
       "    </tr>\n",
       "  </thead>\n",
       "  <tbody>\n",
       "    <tr>\n",
       "      <th>0</th>\n",
       "      <td>Peugeot</td>\n",
       "      <td>2008</td>\n",
       "      <td>2022.0</td>\n",
       "      <td>1.6 Feline Tip am20</td>\n",
       "      <td>Blanco</td>\n",
       "      <td>Nafta</td>\n",
       "      <td>5.0</td>\n",
       "      <td>Automática</td>\n",
       "      <td>1.6</td>\n",
       "      <td>SUV</td>\n",
       "      <td>23000 km</td>\n",
       "      <td>Peugeot 2008 1.6 Feline Tip am20</td>\n",
       "      <td>22499999.0</td>\n",
       "      <td>$</td>\n",
       "      <td>tienda</td>\n",
       "      <td>NaN</td>\n",
       "    </tr>\n",
       "    <tr>\n",
       "      <th>1</th>\n",
       "      <td>Peugeot</td>\n",
       "      <td>2008</td>\n",
       "      <td>2021.0</td>\n",
       "      <td>1.6 Allure</td>\n",
       "      <td>Marrón</td>\n",
       "      <td>Nafta</td>\n",
       "      <td>5.0</td>\n",
       "      <td>Manual</td>\n",
       "      <td>1.6</td>\n",
       "      <td>SUV</td>\n",
       "      <td>17000 km</td>\n",
       "      <td>Peugeot 2008 1.6 Allure</td>\n",
       "      <td>21999999.0</td>\n",
       "      <td>$</td>\n",
       "      <td>tienda</td>\n",
       "      <td>NaN</td>\n",
       "    </tr>\n",
       "    <tr>\n",
       "      <th>2</th>\n",
       "      <td>Peugeot</td>\n",
       "      <td>2008</td>\n",
       "      <td>2021.0</td>\n",
       "      <td>1.6 Allure</td>\n",
       "      <td>Marrón</td>\n",
       "      <td>Nafta</td>\n",
       "      <td>5.0</td>\n",
       "      <td>Manual</td>\n",
       "      <td>1.6</td>\n",
       "      <td>SUV</td>\n",
       "      <td>17500 km</td>\n",
       "      <td>Peugeot 2008 1.6 Allure</td>\n",
       "      <td>20500000.0</td>\n",
       "      <td>$</td>\n",
       "      <td>tienda</td>\n",
       "      <td>NaN</td>\n",
       "    </tr>\n",
       "    <tr>\n",
       "      <th>3</th>\n",
       "      <td>Peugeot</td>\n",
       "      <td>2008</td>\n",
       "      <td>2018.0</td>\n",
       "      <td>1.6 Feline</td>\n",
       "      <td>Blanco</td>\n",
       "      <td>Nafta</td>\n",
       "      <td>5.0</td>\n",
       "      <td>Manual</td>\n",
       "      <td>1.6</td>\n",
       "      <td>SUV</td>\n",
       "      <td>123600 km</td>\n",
       "      <td>Peugeot 2008 1.6 Feline</td>\n",
       "      <td>15000000.0</td>\n",
       "      <td>$</td>\n",
       "      <td>tienda</td>\n",
       "      <td>NaN</td>\n",
       "    </tr>\n",
       "    <tr>\n",
       "      <th>4</th>\n",
       "      <td>Peugeot</td>\n",
       "      <td>2008</td>\n",
       "      <td>2016.0</td>\n",
       "      <td>1.6 Thp Sport</td>\n",
       "      <td>Gris</td>\n",
       "      <td>Nafta</td>\n",
       "      <td>5.0</td>\n",
       "      <td>Manual</td>\n",
       "      <td>1.6</td>\n",
       "      <td>SUV</td>\n",
       "      <td>43000 km</td>\n",
       "      <td>Peugeot 2008 1.6 Thp Sport</td>\n",
       "      <td>12500000.0</td>\n",
       "      <td>$</td>\n",
       "      <td>tienda</td>\n",
       "      <td>NaN</td>\n",
       "    </tr>\n",
       "  </tbody>\n",
       "</table>\n",
       "</div>"
      ],
      "text/plain": [
       "     Marca Modelo     Año              Versión   Color Tipo de combustible  \\\n",
       "0  Peugeot   2008  2022.0  1.6 Feline Tip am20  Blanco               Nafta   \n",
       "1  Peugeot   2008  2021.0           1.6 Allure  Marrón               Nafta   \n",
       "2  Peugeot   2008  2021.0           1.6 Allure  Marrón               Nafta   \n",
       "3  Peugeot   2008  2018.0           1.6 Feline  Blanco               Nafta   \n",
       "4  Peugeot   2008  2016.0        1.6 Thp Sport    Gris               Nafta   \n",
       "\n",
       "   Puertas Transmisión Motor Tipo de carrocería Kilómetros  \\\n",
       "0      5.0  Automática   1.6                SUV   23000 km   \n",
       "1      5.0      Manual   1.6                SUV   17000 km   \n",
       "2      5.0      Manual   1.6                SUV   17500 km   \n",
       "3      5.0      Manual   1.6                SUV  123600 km   \n",
       "4      5.0      Manual   1.6                SUV   43000 km   \n",
       "\n",
       "                             Título      Precio Moneda Tipo de vendedor  \\\n",
       "0  Peugeot 2008 1.6 Feline Tip am20  22499999.0      $           tienda   \n",
       "1           Peugeot 2008 1.6 Allure  21999999.0      $           tienda   \n",
       "2           Peugeot 2008 1.6 Allure  20500000.0      $           tienda   \n",
       "3           Peugeot 2008 1.6 Feline  15000000.0      $           tienda   \n",
       "4        Peugeot 2008 1.6 Thp Sport  12500000.0      $           tienda   \n",
       "\n",
       "  Con cámara de retroceso  \n",
       "0                     NaN  \n",
       "1                     NaN  \n",
       "2                     NaN  \n",
       "3                     NaN  \n",
       "4                     NaN  "
      ]
     },
     "execution_count": 4,
     "metadata": {},
     "output_type": "execute_result"
    }
   ],
   "source": [
    "data.head()"
   ]
  },
  {
   "cell_type": "code",
   "execution_count": 5,
   "metadata": {},
   "outputs": [
    {
     "name": "stdout",
     "output_type": "stream",
     "text": [
      "Marca\n",
      "Jeep              3099\n",
      "Ford              2606\n",
      "Volkswagen        2250\n",
      "Renault           2202\n",
      "Chevrolet         2101\n",
      "Toyota            1906\n",
      "Honda             1019\n",
      "Peugeot            906\n",
      "Citroën            850\n",
      "Audi               839\n",
      "BMW                637\n",
      "Fiat               615\n",
      "Hyundai            573\n",
      "Mercedes-Benz      505\n",
      "Kia                448\n",
      "Chery              341\n",
      "Nissan             311\n",
      "Dodge              272\n",
      "Suzuki             138\n",
      "Land Rover         132\n",
      "BAIC                98\n",
      "Porsche             94\n",
      "Mitsubishi          80\n",
      "Subaru              72\n",
      "Volvo               63\n",
      "DS                  31\n",
      "Alfa Romeo          26\n",
      "Isuzu               24\n",
      "Haval               23\n",
      "Lexus               23\n",
      "Lifan               16\n",
      "Geely               14\n",
      "Ssangyong           14\n",
      "Daihatsu            12\n",
      "Jetur               10\n",
      "MINI                 9\n",
      "JAC                  6\n",
      "Jaguar               4\n",
      "Jetour               3\n",
      "DS7                  1\n",
      "hiunday              1\n",
      "Sandero              1\n",
      "DS AUTOMOBILES       1\n",
      "Abarth               1\n",
      "Name: count, dtype: int64\n"
     ]
    }
   ],
   "source": [
    "#contar la cantidad de \"Marca\" distintas\n",
    "print(data['Marca'].value_counts())\n",
    "marcas = data['Marca'].value_counts()\n",
    "marcas.to_csv('../notebooks/marcas.csv')\n"
   ]
  },
  {
   "cell_type": "code",
   "execution_count": 18,
   "metadata": {},
   "outputs": [
    {
     "name": "stdout",
     "output_type": "stream",
     "text": [
      "Modelo\n",
      "Ecosport        1829\n",
      "Tracker         1518\n",
      "Renegade        1375\n",
      "Duster          1261\n",
      "Compass         1026\n",
      "                ... \n",
      "Coupe              1\n",
      "Hilux              1\n",
      "LX                 1\n",
      "Clase E            1\n",
      "Grand Blazer       1\n",
      "Name: count, Length: 164, dtype: int64\n"
     ]
    }
   ],
   "source": [
    "print(data['Modelo'].value_counts())\n",
    "#guardarlo en un archivo csv\n",
    "modelos=data['Modelo'].value_counts()\n",
    "#ordenar alfabeticamente\n",
    "modelos.sort_index(inplace=True)\n",
    "\n"
   ]
  },
  {
   "cell_type": "code",
   "execution_count": 26,
   "metadata": {},
   "outputs": [
    {
     "name": "stdout",
     "output_type": "stream",
     "text": [
      "436707\n"
     ]
    },
    {
     "data": {
      "image/png": "[encoded data removed]",
      "text/plain": [
       "<Figure size 640x480 with 1 Axes>"
      ]
     },
     "metadata": {},
     "output_type": "display_data"
    }
   ],
   "source": [
    "# Hacer histograma de \"Años\"\n",
    "\n",
    "# Tranformar la columna \"Año\" en entero\n",
    "data['Año'] = data['Año'].astype(int)\n",
    "\n",
    "# Hacer histograma de \"Años\" desde año 1960 hasta 2025\n",
    "plt.hist(data['Año'], bins=range(1986, 2026))\n",
    "plt.xlabel('Año')\n",
    "plt.ylabel('Cantidad de autos')\n",
    "\n",
    "#buscar el mas nuevo\n",
    "print(data['Año'].max())"
   ]
  },
  {
   "cell_type": "code",
   "execution_count": 28,
   "metadata": {},
   "outputs": [],
   "source": [
    "# Ver columna \"Version\"\n",
    "versiones=data['Versión'].value_counts()\n",
    "versiones.sort_index(inplace=True)\n",
    "#guardar en un archivo csv\n",
    "versiones.to_csv('../data/versiones.csv')"
   ]
  },
  {
   "cell_type": "code",
   "execution_count": 5,
   "metadata": {},
   "outputs": [
    {
     "name": "stdout",
     "output_type": "stream",
     "text": [
      "Tipo de combustible\n",
      "Nafta             19383\n",
      "Diésel             2443\n",
      "Híbrido/Nafta       250\n",
      "Nafta/GNC           193\n",
      "Eléctrico            48\n",
      "Híbrido              42\n",
      "GNC                  17\n",
      "Híbrido/Diesel        1\n",
      "Name: count, dtype: int64\n"
     ]
    }
   ],
   "source": [
    "# Hacer value counts de \"Tipo de combustible\"\n",
    "combustible=data['Tipo de combustible'].value_counts()\n",
    "print(combustible)\n"
   ]
  },
  {
   "cell_type": "code",
   "execution_count": 6,
   "metadata": {},
   "outputs": [
    {
     "name": "stdout",
     "output_type": "stream",
     "text": [
      "Transmisión\n",
      "Automática               14191\n",
      "Manual                    7914\n",
      "Automática secuencial      236\n",
      "Semiautomática               4\n",
      "Name: count, dtype: int64\n"
     ]
    }
   ],
   "source": [
    "# Hacer value counts de \"Transmisión\"\n",
    "transmision=data['Transmisión'].value_counts()\n",
    "print(transmision)"
   ]
  },
  {
   "cell_type": "code",
   "execution_count": 7,
   "metadata": {},
   "outputs": [
    {
     "name": "stdout",
     "output_type": "stream",
     "text": [
      "Puertas\n",
      "5.0        21673\n",
      "4.0          530\n",
      "3.0          152\n",
      "2.0           14\n",
      "6.0            4\n",
      "7.0            3\n",
      "60252.0        1\n",
      "Name: count, dtype: int64\n"
     ]
    }
   ],
   "source": [
    "# Hacer value counts de \"Puertas\"\n",
    "\n",
    "puertas=data['Puertas'].value_counts()\n",
    "print(puertas)"
   ]
  },
  {
   "cell_type": "code",
   "execution_count": 21,
   "metadata": {},
   "outputs": [
    {
     "name": "stdout",
     "output_type": "stream",
     "text": [
      "int64\n",
      "9999999\n",
      "32\n",
      "901       634800\n",
      "989       999999\n",
      "2018      999999\n",
      "4892     1111111\n",
      "4893     1111111\n",
      "5520      555555\n",
      "5557      570000\n",
      "6851     1111111\n",
      "8955      900000\n",
      "9231      550000\n",
      "9241      850000\n",
      "9653     1111111\n",
      "11147     558000\n",
      "11196     570000\n",
      "11585     999999\n",
      "12010     999999\n",
      "12011     999999\n",
      "12643    1111111\n",
      "15074    1111111\n",
      "16264     512000\n",
      "16325     885000\n",
      "16568     516000\n",
      "16660     535000\n",
      "16728    1111111\n",
      "16729    1111111\n",
      "16730    1111111\n",
      "16731    1111111\n",
      "18699     999999\n",
      "20885    4849990\n",
      "21266     999999\n",
      "21382    1111111\n",
      "21943    9999999\n",
      "Name: Kilómetros, dtype: int64\n"
     ]
    },
    {
     "data": {
      "image/png": "[encoded data removed]",
      "text/plain": [
       "<Figure size 640x480 with 1 Axes>"
      ]
     },
     "metadata": {},
     "output_type": "display_data"
    }
   ],
   "source": [
    "# Hacer histograma de 'Kilometros'\n",
    "# ver que tipo de datos tiene la columna\n",
    "print(data['Kilómetros'].dtype)\n",
    "# Tranformar la columna \"Kilómetros\" en entero\n",
    "\n",
    "\n",
    "plt.hist(data['Kilómetros'], bins=range(0, 200000, 10000))\n",
    "plt.xlabel('Kilómetros')\n",
    "plt.ylabel('Cantidad de autos')\n",
    "\n",
    "#buscar el mas usado\n",
    "print(data['Kilómetros'].max())\n",
    "\n",
    "#ver cuantos tienen mas de 500000 km\n",
    "print(data['Kilómetros'][data['Kilómetros']>500000].count())\n",
    "\n",
    "# hacer print de los que tienen mas de 500000 km\n",
    "print(data['Kilómetros'][data['Kilómetros']>500000])\n"
   ]
  },
  {
   "cell_type": "code",
   "execution_count": 24,
   "metadata": {},
   "outputs": [
    {
     "name": "stdout",
     "output_type": "stream",
     "text": [
      "Color\n",
      "Gris               4622\n",
      "Blanco             4041\n",
      "Negro              2194\n",
      "Plateado           1499\n",
      "Azul                957\n",
      "                   ... \n",
      "Blanco Glaciar        1\n",
      "CARBON BLACK          1\n",
      "Gris grafito          1\n",
      "BRANCO POLAR BC       1\n",
      "steel_blue            1\n",
      "Name: count, Length: 65, dtype: int64\n"
     ]
    }
   ],
   "source": [
    "# hacer value counts de \"Color\" si no se especifica el color se pone como \"No especificado\"\n",
    "colores=data['Color'].value_counts()\n",
    "print(colores)"
   ]
  },
  {
   "cell_type": "code",
   "execution_count": 25,
   "metadata": {},
   "outputs": [
    {
     "name": "stdout",
     "output_type": "stream",
     "text": [
      "Tipo de vendedor\n",
      "concesionaria    10698\n",
      "particular        7430\n",
      "tienda            4244\n",
      "Name: count, dtype: int64\n"
     ]
    }
   ],
   "source": [
    "# hacer value counts de \"Tipo de vendedor\"\n",
    "vendedores=data['Tipo de vendedor'].value_counts()\n",
    "print(vendedores)"
   ]
  },
  {
   "cell_type": "code",
   "execution_count": 3,
   "metadata": {},
   "outputs": [],
   "source": [
    "# hacer csv de 'Titulo'\n",
    "titulos=data['Título'].value_counts\n",
    "\n",
    "# descargar el archivo csv\n",
    "titulos().to_csv('../notebooks/titulos.csv')\n",
    "\n"
   ]
  },
  {
   "cell_type": "code",
   "execution_count": 65,
   "metadata": {},
   "outputs": [
    {
     "name": "stdout",
     "output_type": "stream",
     "text": [
      "Marca\n",
      "Jeep              3099\n",
      "Ford              2606\n",
      "Volkswagen        2250\n",
      "Renault           2202\n",
      "Chevrolet         2101\n",
      "Toyota            1906\n",
      "Honda             1019\n",
      "Peugeot            906\n",
      "Citroën            850\n",
      "Audi               839\n",
      "BMW                637\n",
      "Fiat               615\n",
      "Hyundai            573\n",
      "Mercedes-Benz      505\n",
      "Kia                448\n",
      "Chery              341\n",
      "Nissan             311\n",
      "Dodge              272\n",
      "Suzuki             138\n",
      "Land Rover         132\n",
      "BAIC                98\n",
      "Porsche             94\n",
      "Mitsubishi          80\n",
      "Subaru              72\n",
      "Volvo               63\n",
      "DS                  31\n",
      "Alfa Romeo          26\n",
      "Isuzu               24\n",
      "Haval               23\n",
      "Lexus               23\n",
      "Lifan               16\n",
      "Geely               14\n",
      "Ssangyong           14\n",
      "Daihatsu            12\n",
      "Jetur               10\n",
      "MINI                 9\n",
      "JAC                  6\n",
      "Jaguar               4\n",
      "Jetour               3\n",
      "DS7                  1\n",
      "hiunday              1\n",
      "Sandero              1\n",
      "DS AUTOMOBILES       1\n",
      "Abarth               1\n",
      "Name: count, dtype: int64\n"
     ]
    }
   ],
   "source": [
    "print(data['Marca'].value_counts())\n"
   ]
  },
  {
   "cell_type": "code",
   "execution_count": 4,
   "metadata": {},
   "outputs": [
    {
     "name": "stdout",
     "output_type": "stream",
     "text": [
      "Modelo\n",
      "Pulse    1\n",
      "Name: count, dtype: int64\n"
     ]
    }
   ],
   "source": [
    "# listar modelos de Marca Jeep\n",
    "DS=data[data['Marca']=='Abarth']\n",
    "print(DS['Modelo'].value_counts())"
   ]
  },
  {
   "cell_type": "code",
   "execution_count": 215,
   "metadata": {},
   "outputs": [],
   "source": [
    "# listar versiones de Marca Jeep y Modelo Renegade\n",
    "Toyotaa=DS[DS['Modelo']=='Sandero']\n",
    "versiones=Toyotaa['Versión'].value_counts()\n",
    "#guardar en un archivo csv\n",
    "versiones.to_csv('../notebooks/versiones_compass.csv')"
   ]
  },
  {
   "cell_type": "code",
   "execution_count": 4,
   "metadata": {},
   "outputs": [],
   "source": [
    "# hacer value counts de \"Color\" \n",
    "colores=data['Color'].value_counts()\n",
    "#guardar en un archivo csv\n",
    "colores.to_csv('../notebooks/colores.csv')"
   ]
  },
  {
   "cell_type": "code",
   "execution_count": 6,
   "metadata": {},
   "outputs": [
    {
     "name": "stdout",
     "output_type": "stream",
     "text": [
      "15126\n"
     ]
    }
   ],
   "source": [
    "# contar cantidad que hay en colores\n",
    "# sumar todos para ver faltantes\n",
    "print(colores.sum())"
   ]
  },
  {
   "cell_type": "code",
   "execution_count": null,
   "metadata": {},
   "outputs": [],
   "source": []
  }
 ],
 "metadata": {
  "kernelspec": {
   "display_name": "TPML",
   "language": "python",
   "name": "python3"
  },
  "language_info": {
   "codemirror_mode": {
    "name": "ipython",
    "version": 3
   },
   "file_extension": ".py",
   "mimetype": "text/x-python",
   "name": "python",
   "nbconvert_exporter": "python",
   "pygments_lexer": "ipython3",
   "version": "3.11.9"
  }
 },
 "nbformat": 4,
 "nbformat_minor": 2
}
